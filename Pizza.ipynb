{
  "nbformat": 4,
  "nbformat_minor": 0,
  "metadata": {
    "colab": {
      "provenance": [],
      "authorship_tag": "ABX9TyOTukpXYQfMf0YR2NrvSlpR",
      "include_colab_link": true
    },
    "kernelspec": {
      "name": "python3",
      "display_name": "Python 3"
    },
    "language_info": {
      "name": "python"
    }
  },
  "cells": [
    {
      "cell_type": "markdown",
      "metadata": {
        "id": "view-in-github",
        "colab_type": "text"
      },
      "source": [
        "<a href=\"https://colab.research.google.com/github/akki823/basic-pyspark-concept/blob/main/Pizza.ipynb\" target=\"_parent\"><img src=\"https://colab.research.google.com/assets/colab-badge.svg\" alt=\"Open In Colab\"/></a>"
      ]
    },
    {
      "cell_type": "markdown",
      "source": [
        "**My dataset** --\n",
        "This pizza sales dataset make up 9 relevant features: 1- Order_id: Unique identifier for each order placed by a table, 2- Order_details_id: Unique identifier for each pizza placed within each order, 3- Pizza_id: Unique key identifier that ties the pizza ordered to its details, like size and price 4- Quantity: Quantity ordered for each pizza of the same type and size 5-Order_date: Date the order was placed, 6- Order_time: Time the order was placed ,7- Unit_price: Price of the pizza in USD,Pizza_size: Size of the pizza (Small, Medium, Large, X Large, or XX Large), 8- Pizza_ingredients: ingredients used in the pizza as shown in the menu,9- Pizza_name: Name of the pizza as shown in the menu"
      ],
      "metadata": {
        "id": "wC-ofPm5VODp"
      }
    },
    {
      "cell_type": "markdown",
      "source": [
        "**Clean Pizza Sales dataset**"
      ],
      "metadata": {
        "id": "zpWZnl52gGTO"
      }
    },
    {
      "cell_type": "code",
      "execution_count": null,
      "metadata": {
        "colab": {
          "base_uri": "https://localhost:8080/"
        },
        "id": "jeZbBDpadujL",
        "outputId": "e5bf9a50-7fec-4ecf-ce9c-2dbfb26642f7"
      },
      "outputs": [
        {
          "output_type": "stream",
          "name": "stdout",
          "text": [
            "Collecting pyspark\n",
            "  Downloading pyspark-3.5.3.tar.gz (317.3 MB)\n",
            "\u001b[2K     \u001b[90m━━━━━━━━━━━━━━━━━━━━━━━━━━━━━━━━━━━━━━━━\u001b[0m \u001b[32m317.3/317.3 MB\u001b[0m \u001b[31m4.7 MB/s\u001b[0m eta \u001b[36m0:00:00\u001b[0m\n",
            "\u001b[?25h  Preparing metadata (setup.py) ... \u001b[?25l\u001b[?25hdone\n",
            "Requirement already satisfied: py4j==0.10.9.7 in /usr/local/lib/python3.10/dist-packages (from pyspark) (0.10.9.7)\n",
            "Building wheels for collected packages: pyspark\n",
            "  Building wheel for pyspark (setup.py) ... \u001b[?25l\u001b[?25hdone\n",
            "  Created wheel for pyspark: filename=pyspark-3.5.3-py2.py3-none-any.whl size=317840625 sha256=2dc8aa6535406bc1dee6fa4890bd35d9f7c2fba4352d0cb3b0f8d98791e3047b\n",
            "  Stored in directory: /root/.cache/pip/wheels/1b/3a/92/28b93e2fbfdbb07509ca4d6f50c5e407f48dce4ddbda69a4ab\n",
            "Successfully built pyspark\n",
            "Installing collected packages: pyspark\n",
            "Successfully installed pyspark-3.5.3\n"
          ]
        }
      ],
      "source": [
        "pip install pyspark"
      ]
    },
    {
      "cell_type": "code",
      "source": [
        "from pyspark.sql import SparkSession\n",
        "spark = SparkSession.builder.appName(\"pizza\").getOrCreate()\n",
        "spark"
      ],
      "metadata": {
        "colab": {
          "base_uri": "https://localhost:8080/",
          "height": 221
        },
        "id": "00yysB6_t9zT",
        "outputId": "5925ea43-e0e3-4b43-f374-16ed1c72d956"
      },
      "execution_count": null,
      "outputs": [
        {
          "output_type": "execute_result",
          "data": {
            "text/plain": [
              "<pyspark.sql.session.SparkSession at 0x7fce20a79690>"
            ],
            "text/html": [
              "\n",
              "            <div>\n",
              "                <p><b>SparkSession - in-memory</b></p>\n",
              "                \n",
              "        <div>\n",
              "            <p><b>SparkContext</b></p>\n",
              "\n",
              "            <p><a href=\"http://0fb85e6ab0df:4040\">Spark UI</a></p>\n",
              "\n",
              "            <dl>\n",
              "              <dt>Version</dt>\n",
              "                <dd><code>v3.5.3</code></dd>\n",
              "              <dt>Master</dt>\n",
              "                <dd><code>local[*]</code></dd>\n",
              "              <dt>AppName</dt>\n",
              "                <dd><code>pizza</code></dd>\n",
              "            </dl>\n",
              "        </div>\n",
              "        \n",
              "            </div>\n",
              "        "
            ]
          },
          "metadata": {},
          "execution_count": 2
        }
      ]
    },
    {
      "cell_type": "code",
      "source": [
        "df = spark.read.csv(\"/content/Data Model - Pizza Sales.csv\", header=True, inferSchema=True)"
      ],
      "metadata": {
        "id": "5riFwdS6ub6O"
      },
      "execution_count": null,
      "outputs": []
    },
    {
      "cell_type": "code",
      "source": [
        "df.show()"
      ],
      "metadata": {
        "colab": {
          "base_uri": "https://localhost:8080/"
        },
        "id": "knbetQmPvLpo",
        "outputId": "cbef4ec8-85e5-466d-c51d-3745e1917948"
      },
      "execution_count": null,
      "outputs": [
        {
          "output_type": "stream",
          "name": "stdout",
          "text": [
            "+----------------+--------+--------------+--------+----------+-------------------+----------+----------+--------------+--------------------+--------------------+\n",
            "|order_details_id|order_id|      pizza_id|quantity|order_date|         order_time|unit_price|pizza_size|pizza_category|   pizza_ingredients|          pizza_name|\n",
            "+----------------+--------+--------------+--------+----------+-------------------+----------+----------+--------------+--------------------+--------------------+\n",
            "|               1|       1|    hawaiian_m|       1|01-01-2015|2024-09-27 11:38:36|     13.25|         M|       Classic|Sliced Ham, Pinea...|  The Hawaiian Pizza|\n",
            "|               2|       2| classic_dlx_m|       1|01-01-2015|2024-09-27 11:57:40|      16.0|         M|       Classic|Pepperoni, Mushro...|The Classic Delux...|\n",
            "|               3|       2| five_cheese_l|       1|01-01-2015|2024-09-27 11:57:40|      18.5|         L|        Veggie|Mozzarella Cheese...|The Five Cheese P...|\n",
            "|               4|       2|   ital_supr_l|       1|01-01-2015|2024-09-27 11:57:40|     20.75|         L|       Supreme|Calabrese Salami,...|The Italian Supre...|\n",
            "|               5|       2|    mexicana_m|       1|01-01-2015|2024-09-27 11:57:40|      16.0|         M|        Veggie|Tomatoes, Red Pep...|  The Mexicana Pizza|\n",
            "|               6|       2|    thai_ckn_l|       1|01-01-2015|2024-09-27 11:57:40|     20.75|         L|       Chicken|Chicken, Pineappl...|The Thai Chicken ...|\n",
            "|               7|       3|   ital_supr_m|       1|01-01-2015|2024-09-27 12:12:28|      16.5|         M|       Supreme|Calabrese Salami,...|The Italian Supre...|\n",
            "|               8|       3|  prsc_argla_l|       1|01-01-2015|2024-09-27 12:12:28|     20.75|         L|       Supreme|Prosciutto di San...|The Prosciutto an...|\n",
            "|               9|       4|   ital_supr_m|       1|01-01-2015|2024-09-27 12:16:31|      16.5|         M|       Supreme|Calabrese Salami,...|The Italian Supre...|\n",
            "|              10|       5|   ital_supr_m|       1|01-01-2015|2024-09-27 12:21:30|      16.5|         M|       Supreme|Calabrese Salami,...|The Italian Supre...|\n",
            "|              11|       6|     bbq_ckn_s|       1|01-01-2015|2024-09-27 12:29:36|     12.75|         S|       Chicken|Barbecued Chicken...|The Barbecue Chic...|\n",
            "|              12|       6|   the_greek_s|       1|01-01-2015|2024-09-27 12:29:36|      12.0|         S|       Classic|Kalamata Olives, ...|     The Greek Pizza|\n",
            "|              13|       7|spinach_supr_s|       1|01-01-2015|2024-09-27 12:50:37|      12.5|         S|       Supreme|Spinach, Red Onio...|The Spinach Supre...|\n",
            "|              14|       8|spinach_supr_s|       1|01-01-2015|2024-09-27 12:51:37|      12.5|         S|       Supreme|Spinach, Red Onio...|The Spinach Supre...|\n",
            "|              15|       9| classic_dlx_s|       1|01-01-2015|2024-09-27 12:52:01|      12.0|         S|       Classic|Pepperoni, Mushro...|The Classic Delux...|\n",
            "|              16|       9|green_garden_s|       1|01-01-2015|2024-09-27 12:52:01|      12.0|         S|        Veggie|Spinach, Mushroom...|The Green Garden ...|\n",
            "|              17|       9| ital_cpcllo_l|       1|01-01-2015|2024-09-27 12:52:01|      20.5|         L|       Classic|Capocollo, Red Pe...|The Italian Capoc...|\n",
            "|              18|       9|   ital_supr_l|       1|01-01-2015|2024-09-27 12:52:01|     20.75|         L|       Supreme|Calabrese Salami,...|The Italian Supre...|\n",
            "|              19|       9|   ital_supr_s|       1|01-01-2015|2024-09-27 12:52:01|      12.5|         S|       Supreme|Calabrese Salami,...|The Italian Supre...|\n",
            "|              20|       9|    mexicana_s|       1|01-01-2015|2024-09-27 12:52:01|      12.0|         S|        Veggie|Tomatoes, Red Pep...|  The Mexicana Pizza|\n",
            "+----------------+--------+--------------+--------+----------+-------------------+----------+----------+--------------+--------------------+--------------------+\n",
            "only showing top 20 rows\n",
            "\n"
          ]
        }
      ]
    },
    {
      "cell_type": "code",
      "source": [
        "df.printSchema()"
      ],
      "metadata": {
        "colab": {
          "base_uri": "https://localhost:8080/"
        },
        "id": "l3eyFjYTyybd",
        "outputId": "cfe24051-595e-47ef-c138-c7cbaffd180e"
      },
      "execution_count": null,
      "outputs": [
        {
          "output_type": "stream",
          "name": "stdout",
          "text": [
            "root\n",
            " |-- order_details_id: integer (nullable = true)\n",
            " |-- order_id: integer (nullable = true)\n",
            " |-- pizza_id: string (nullable = true)\n",
            " |-- quantity: integer (nullable = true)\n",
            " |-- order_date: string (nullable = true)\n",
            " |-- order_time: timestamp (nullable = true)\n",
            " |-- unit_price: double (nullable = true)\n",
            " |-- pizza_size: string (nullable = true)\n",
            " |-- pizza_category: string (nullable = true)\n",
            " |-- pizza_ingredients: string (nullable = true)\n",
            " |-- pizza_name: string (nullable = true)\n",
            "\n"
          ]
        }
      ]
    },
    {
      "cell_type": "markdown",
      "source": [
        "Checking for null values ​​in my dataset, no null values in my data"
      ],
      "metadata": {
        "id": "dgiSvXctYlSi"
      }
    },
    {
      "cell_type": "code",
      "source": [
        "from pyspark.sql.functions import count, when , col #count function counts the number ,when function is used to create a conditional\n",
        "df.select([count(when(col(c).isNull(), c)).alias(c) for c in df.columns]).show() #col function is used to refer to a column in the DataFrame\n"
      ],
      "metadata": {
        "colab": {
          "base_uri": "https://localhost:8080/"
        },
        "id": "CVu9KvLqvvgZ",
        "outputId": "cf166255-c81d-4125-921c-3370519e390f"
      },
      "execution_count": null,
      "outputs": [
        {
          "output_type": "stream",
          "name": "stdout",
          "text": [
            "+----------------+--------+--------+--------+----------+----------+----------+----------+--------------+-----------------+----------+\n",
            "|order_details_id|order_id|pizza_id|quantity|order_date|order_time|unit_price|pizza_size|pizza_category|pizza_ingredients|pizza_name|\n",
            "+----------------+--------+--------+--------+----------+----------+----------+----------+--------------+-----------------+----------+\n",
            "|               0|       0|       0|       0|         0|         0|         0|         0|             0|                0|         0|\n",
            "+----------------+--------+--------+--------+----------+----------+----------+----------+--------------+-----------------+----------+\n",
            "\n"
          ]
        }
      ]
    },
    {
      "cell_type": "markdown",
      "source": [
        "Checking for Duplicates in my dataset\n",
        "\n",
        "\n",
        "\n",
        "**groupBy** function is used to group the rows of a DataFrame based on the values of one or more columns. Once the rows are grouped, you can perform aggregate functions"
      ],
      "metadata": {
        "id": "Nv0uAjHMZjJR"
      }
    },
    {
      "cell_type": "code",
      "source": [
        "df_duplicates = df.groupBy(df.columns).count()"
      ],
      "metadata": {
        "id": "f1hcx148wGWS"
      },
      "execution_count": null,
      "outputs": []
    },
    {
      "cell_type": "code",
      "source": [
        "df_duplicates.show()"
      ],
      "metadata": {
        "colab": {
          "base_uri": "https://localhost:8080/"
        },
        "id": "W_yfsooYx_7z",
        "outputId": "6c3a1bc1-1619-4301-abbb-94a93f001c9a"
      },
      "execution_count": null,
      "outputs": [
        {
          "output_type": "stream",
          "name": "stdout",
          "text": [
            "+----------------+--------+--------------+--------+----------+-------------------+----------+----------+--------------+--------------------+--------------------+-----+\n",
            "|order_details_id|order_id|      pizza_id|quantity|order_date|         order_time|unit_price|pizza_size|pizza_category|   pizza_ingredients|          pizza_name|count|\n",
            "+----------------+--------+--------------+--------+----------+-------------------+----------+----------+--------------+--------------------+--------------------+-----+\n",
            "|             101|      42|    big_meat_s|       1|01-01-2015|2024-09-27 17:28:09|      12.0|         S|       Classic|Bacon, Pepperoni,...|  The Big Meat Pizza|    1|\n",
            "|             151|      65| pep_msh_pep_s|       1|01-01-2015|2024-09-27 21:16:00|      11.0|         S|       Classic|Pepperoni, Mushro...|The Pepperoni, Mu...|    1|\n",
            "|             216|      92|   ital_supr_l|       1|02-01-2015|2024-09-27 15:17:02|     20.75|         L|       Supreme|Calabrese Salami,...|The Italian Supre...|    1|\n",
            "|             297|     124|   the_greek_s|       1|02-01-2015|2024-09-27 20:12:34|      12.0|         S|       Classic|Kalamata Olives, ...|     The Greek Pizza|    1|\n",
            "|             315|     133|   the_greek_s|       1|02-01-2015|2024-09-27 22:00:17|      12.0|         S|       Classic|Kalamata Olives, ...|     The Greek Pizza|    1|\n",
            "|             337|     143|    mexicana_m|       1|03-01-2015|2024-09-27 13:41:36|      16.0|         M|        Veggie|Tomatoes, Red Pep...|  The Mexicana Pizza|    1|\n",
            "|             421|     178|peppr_salami_l|       1|03-01-2015|2024-09-27 18:15:03|     20.75|         L|       Supreme|Genoa Salami, Cap...|The Pepper Salami...|    1|\n",
            "|             818|     357|  southw_ckn_s|       1|06-01-2015|2024-09-27 18:27:58|     12.75|         S|       Chicken|Chicken, Tomatoes...|The Southwest Chi...|    1|\n",
            "|             929|     405|    sicilian_l|       1|07-01-2015|2024-09-27 16:44:16|     20.25|         L|       Supreme|Coarse Sicilian S...|  The Sicilian Pizza|    1|\n",
            "|            1163|     510| classic_dlx_s|       1|09-01-2015|2024-09-27 12:15:03|      12.0|         S|       Classic|Pepperoni, Mushro...|The Classic Delux...|    1|\n",
            "|            1197|     524|    thai_ckn_m|       1|09-01-2015|2024-09-27 14:51:35|     16.75|         M|       Chicken|Chicken, Pineappl...|The Thai Chicken ...|    1|\n",
            "|            1316|     583|   ital_supr_l|       1|10-01-2015|2024-09-27 14:33:19|     20.75|         L|       Supreme|Calabrese Salami,...|The Italian Supre...|    1|\n",
            "|            1503|     668|    mexicana_l|       1|11-01-2015|2024-09-27 18:13:12|     20.25|         L|        Veggie|Tomatoes, Red Pep...|  The Mexicana Pizza|    1|\n",
            "|            1628|     725|  the_greek_xl|       1|12-01-2015|2024-09-27 18:33:14|      25.5|        XL|       Classic|Kalamata Olives, ...|     The Greek Pizza|    1|\n",
            "|            1851|     822|  the_greek_xl|       1|14-01-2015|2024-09-27 17:38:53|      25.5|        XL|       Classic|Kalamata Olives, ...|     The Greek Pizza|    1|\n",
            "|            2106|     938|peppr_salami_l|       1|16-01-2015|2024-09-27 16:43:09|     20.75|         L|       Supreme|Genoa Salami, Cap...|The Pepper Salami...|    1|\n",
            "|            2415|    1073|  spin_pesto_m|       1|18-01-2015|2024-09-27 18:42:02|      16.5|         M|        Veggie|Spinach, Artichok...|The Spinach Pesto...|    1|\n",
            "|            2462|    1093|   ital_supr_m|       1|19-01-2015|2024-09-27 12:33:24|      16.5|         M|       Supreme|Calabrese Salami,...|The Italian Supre...|    1|\n",
            "|            2542|    1126|  southw_ckn_s|       1|19-01-2015|2024-09-27 18:48:46|     12.75|         S|       Chicken|Chicken, Tomatoes...|The Southwest Chi...|    1|\n",
            "|            2798|    1237|    sicilian_s|       1|21-01-2015|2024-09-27 18:10:40|     12.25|         S|       Supreme|Coarse Sicilian S...|  The Sicilian Pizza|    1|\n",
            "+----------------+--------+--------------+--------+----------+-------------------+----------+----------+--------------+--------------------+--------------------+-----+\n",
            "only showing top 20 rows\n",
            "\n"
          ]
        }
      ]
    },
    {
      "cell_type": "markdown",
      "source": [
        "No Duplicates in my dataset"
      ],
      "metadata": {
        "id": "TDhdsD0oaRMs"
      }
    },
    {
      "cell_type": "code",
      "source": [
        "df_duplicates.filter(\"count > 1\").count()"
      ],
      "metadata": {
        "colab": {
          "base_uri": "https://localhost:8080/"
        },
        "id": "5r6-X4NByBeq",
        "outputId": "a8d76b9c-ab68-420e-9ed9-e93edfca4873"
      },
      "execution_count": null,
      "outputs": [
        {
          "output_type": "execute_result",
          "data": {
            "text/plain": [
              "0"
            ]
          },
          "metadata": {},
          "execution_count": 9
        }
      ]
    },
    {
      "cell_type": "code",
      "source": [
        "df.select('order_time').show()"
      ],
      "metadata": {
        "colab": {
          "base_uri": "https://localhost:8080/"
        },
        "id": "mPDGdLdU0ff1",
        "outputId": "66615d72-c123-4742-f39e-45d08638bf51"
      },
      "execution_count": null,
      "outputs": [
        {
          "output_type": "stream",
          "name": "stdout",
          "text": [
            "+-------------------+\n",
            "|         order_time|\n",
            "+-------------------+\n",
            "|2024-09-27 11:38:36|\n",
            "|2024-09-27 11:57:40|\n",
            "|2024-09-27 11:57:40|\n",
            "|2024-09-27 11:57:40|\n",
            "|2024-09-27 11:57:40|\n",
            "|2024-09-27 11:57:40|\n",
            "|2024-09-27 12:12:28|\n",
            "|2024-09-27 12:12:28|\n",
            "|2024-09-27 12:16:31|\n",
            "|2024-09-27 12:21:30|\n",
            "|2024-09-27 12:29:36|\n",
            "|2024-09-27 12:29:36|\n",
            "|2024-09-27 12:50:37|\n",
            "|2024-09-27 12:51:37|\n",
            "|2024-09-27 12:52:01|\n",
            "|2024-09-27 12:52:01|\n",
            "|2024-09-27 12:52:01|\n",
            "|2024-09-27 12:52:01|\n",
            "|2024-09-27 12:52:01|\n",
            "|2024-09-27 12:52:01|\n",
            "+-------------------+\n",
            "only showing top 20 rows\n",
            "\n"
          ]
        }
      ]
    },
    {
      "cell_type": "markdown",
      "source": [
        "Delete unwanted values ​​in data time column\n",
        "\n",
        "\n",
        "**date_format** function formats the order_time column to show only the time in the format HH:mm:ss, effectively removing the date portion."
      ],
      "metadata": {
        "id": "zSzTOmgPa00r"
      }
    },
    {
      "cell_type": "code",
      "source": [
        "from pyspark.sql.functions import date_format\n",
        "df = df.withColumn(\"order_time\", date_format(\"order_time\", \"HH:mm:ss\"))\n"
      ],
      "metadata": {
        "id": "LxxrcfjvyM5K"
      },
      "execution_count": null,
      "outputs": []
    },
    {
      "cell_type": "code",
      "source": [
        "df.show()"
      ],
      "metadata": {
        "colab": {
          "base_uri": "https://localhost:8080/"
        },
        "id": "GQ583Dut1YfY",
        "outputId": "0c58da70-c8ff-45fe-fd48-5430a9532f6a"
      },
      "execution_count": null,
      "outputs": [
        {
          "output_type": "stream",
          "name": "stdout",
          "text": [
            "+----------------+--------+--------------+--------+----------+----------+----------+----------+--------------+--------------------+--------------------+\n",
            "|order_details_id|order_id|      pizza_id|quantity|order_date|order_time|unit_price|pizza_size|pizza_category|   pizza_ingredients|          pizza_name|\n",
            "+----------------+--------+--------------+--------+----------+----------+----------+----------+--------------+--------------------+--------------------+\n",
            "|               1|       1|    hawaiian_m|       1|01-01-2015|  11:38:36|     13.25|         M|       Classic|Sliced Ham, Pinea...|  The Hawaiian Pizza|\n",
            "|               2|       2| classic_dlx_m|       1|01-01-2015|  11:57:40|      16.0|         M|       Classic|Pepperoni, Mushro...|The Classic Delux...|\n",
            "|               3|       2| five_cheese_l|       1|01-01-2015|  11:57:40|      18.5|         L|        Veggie|Mozzarella Cheese...|The Five Cheese P...|\n",
            "|               4|       2|   ital_supr_l|       1|01-01-2015|  11:57:40|     20.75|         L|       Supreme|Calabrese Salami,...|The Italian Supre...|\n",
            "|               5|       2|    mexicana_m|       1|01-01-2015|  11:57:40|      16.0|         M|        Veggie|Tomatoes, Red Pep...|  The Mexicana Pizza|\n",
            "|               6|       2|    thai_ckn_l|       1|01-01-2015|  11:57:40|     20.75|         L|       Chicken|Chicken, Pineappl...|The Thai Chicken ...|\n",
            "|               7|       3|   ital_supr_m|       1|01-01-2015|  12:12:28|      16.5|         M|       Supreme|Calabrese Salami,...|The Italian Supre...|\n",
            "|               8|       3|  prsc_argla_l|       1|01-01-2015|  12:12:28|     20.75|         L|       Supreme|Prosciutto di San...|The Prosciutto an...|\n",
            "|               9|       4|   ital_supr_m|       1|01-01-2015|  12:16:31|      16.5|         M|       Supreme|Calabrese Salami,...|The Italian Supre...|\n",
            "|              10|       5|   ital_supr_m|       1|01-01-2015|  12:21:30|      16.5|         M|       Supreme|Calabrese Salami,...|The Italian Supre...|\n",
            "|              11|       6|     bbq_ckn_s|       1|01-01-2015|  12:29:36|     12.75|         S|       Chicken|Barbecued Chicken...|The Barbecue Chic...|\n",
            "|              12|       6|   the_greek_s|       1|01-01-2015|  12:29:36|      12.0|         S|       Classic|Kalamata Olives, ...|     The Greek Pizza|\n",
            "|              13|       7|spinach_supr_s|       1|01-01-2015|  12:50:37|      12.5|         S|       Supreme|Spinach, Red Onio...|The Spinach Supre...|\n",
            "|              14|       8|spinach_supr_s|       1|01-01-2015|  12:51:37|      12.5|         S|       Supreme|Spinach, Red Onio...|The Spinach Supre...|\n",
            "|              15|       9| classic_dlx_s|       1|01-01-2015|  12:52:01|      12.0|         S|       Classic|Pepperoni, Mushro...|The Classic Delux...|\n",
            "|              16|       9|green_garden_s|       1|01-01-2015|  12:52:01|      12.0|         S|        Veggie|Spinach, Mushroom...|The Green Garden ...|\n",
            "|              17|       9| ital_cpcllo_l|       1|01-01-2015|  12:52:01|      20.5|         L|       Classic|Capocollo, Red Pe...|The Italian Capoc...|\n",
            "|              18|       9|   ital_supr_l|       1|01-01-2015|  12:52:01|     20.75|         L|       Supreme|Calabrese Salami,...|The Italian Supre...|\n",
            "|              19|       9|   ital_supr_s|       1|01-01-2015|  12:52:01|      12.5|         S|       Supreme|Calabrese Salami,...|The Italian Supre...|\n",
            "|              20|       9|    mexicana_s|       1|01-01-2015|  12:52:01|      12.0|         S|        Veggie|Tomatoes, Red Pep...|  The Mexicana Pizza|\n",
            "+----------------+--------+--------------+--------+----------+----------+----------+----------+--------------+--------------------+--------------------+\n",
            "only showing top 20 rows\n",
            "\n"
          ]
        }
      ]
    },
    {
      "cell_type": "code",
      "source": [
        "drop_name=['pizza_ingredients']"
      ],
      "metadata": {
        "id": "zGtwuxoV1bjo"
      },
      "execution_count": null,
      "outputs": []
    },
    {
      "cell_type": "code",
      "source": [
        "df = df.drop(*drop_name)"
      ],
      "metadata": {
        "id": "dRoC4POvHn7t"
      },
      "execution_count": null,
      "outputs": []
    },
    {
      "cell_type": "code",
      "source": [
        "df.show()"
      ],
      "metadata": {
        "colab": {
          "base_uri": "https://localhost:8080/"
        },
        "id": "2T-Ka7I2Hr5J",
        "outputId": "b4ec25d6-2cd5-4363-8f3c-b2619cb699fc"
      },
      "execution_count": null,
      "outputs": [
        {
          "output_type": "stream",
          "name": "stdout",
          "text": [
            "+----------------+--------+--------------+--------+----------+----------+----------+----------+--------------+--------------------+\n",
            "|order_details_id|order_id|      pizza_id|quantity|order_date|order_time|unit_price|pizza_size|pizza_category|          pizza_name|\n",
            "+----------------+--------+--------------+--------+----------+----------+----------+----------+--------------+--------------------+\n",
            "|               1|       1|    hawaiian_m|       1|01-01-2015|  11:38:36|     13.25|         M|       Classic|  The Hawaiian Pizza|\n",
            "|               2|       2| classic_dlx_m|       1|01-01-2015|  11:57:40|      16.0|         M|       Classic|The Classic Delux...|\n",
            "|               3|       2| five_cheese_l|       1|01-01-2015|  11:57:40|      18.5|         L|        Veggie|The Five Cheese P...|\n",
            "|               4|       2|   ital_supr_l|       1|01-01-2015|  11:57:40|     20.75|         L|       Supreme|The Italian Supre...|\n",
            "|               5|       2|    mexicana_m|       1|01-01-2015|  11:57:40|      16.0|         M|        Veggie|  The Mexicana Pizza|\n",
            "|               6|       2|    thai_ckn_l|       1|01-01-2015|  11:57:40|     20.75|         L|       Chicken|The Thai Chicken ...|\n",
            "|               7|       3|   ital_supr_m|       1|01-01-2015|  12:12:28|      16.5|         M|       Supreme|The Italian Supre...|\n",
            "|               8|       3|  prsc_argla_l|       1|01-01-2015|  12:12:28|     20.75|         L|       Supreme|The Prosciutto an...|\n",
            "|               9|       4|   ital_supr_m|       1|01-01-2015|  12:16:31|      16.5|         M|       Supreme|The Italian Supre...|\n",
            "|              10|       5|   ital_supr_m|       1|01-01-2015|  12:21:30|      16.5|         M|       Supreme|The Italian Supre...|\n",
            "|              11|       6|     bbq_ckn_s|       1|01-01-2015|  12:29:36|     12.75|         S|       Chicken|The Barbecue Chic...|\n",
            "|              12|       6|   the_greek_s|       1|01-01-2015|  12:29:36|      12.0|         S|       Classic|     The Greek Pizza|\n",
            "|              13|       7|spinach_supr_s|       1|01-01-2015|  12:50:37|      12.5|         S|       Supreme|The Spinach Supre...|\n",
            "|              14|       8|spinach_supr_s|       1|01-01-2015|  12:51:37|      12.5|         S|       Supreme|The Spinach Supre...|\n",
            "|              15|       9| classic_dlx_s|       1|01-01-2015|  12:52:01|      12.0|         S|       Classic|The Classic Delux...|\n",
            "|              16|       9|green_garden_s|       1|01-01-2015|  12:52:01|      12.0|         S|        Veggie|The Green Garden ...|\n",
            "|              17|       9| ital_cpcllo_l|       1|01-01-2015|  12:52:01|      20.5|         L|       Classic|The Italian Capoc...|\n",
            "|              18|       9|   ital_supr_l|       1|01-01-2015|  12:52:01|     20.75|         L|       Supreme|The Italian Supre...|\n",
            "|              19|       9|   ital_supr_s|       1|01-01-2015|  12:52:01|      12.5|         S|       Supreme|The Italian Supre...|\n",
            "|              20|       9|    mexicana_s|       1|01-01-2015|  12:52:01|      12.0|         S|        Veggie|  The Mexicana Pizza|\n",
            "+----------------+--------+--------------+--------+----------+----------+----------+----------+--------------+--------------------+\n",
            "only showing top 20 rows\n",
            "\n"
          ]
        }
      ]
    },
    {
      "cell_type": "markdown",
      "source": [
        "convert the price column from USD to INR"
      ],
      "metadata": {
        "id": "7tVLYfZab872"
      }
    },
    {
      "cell_type": "markdown",
      "source": [
        "**withColumn** function is used to create a new column or update an existing column in a DataFrame. It allows you to add, modify, or transform a column in a flexible manner."
      ],
      "metadata": {
        "id": "G7-1C4TmeMLG"
      }
    },
    {
      "cell_type": "code",
      "source": [
        "# TODAY 1 USD = 83.62 INR\n",
        "usd_rate = 83.62\n",
        "df = df.withColumn(\"price_in_INR\", col(\"unit_price\") * usd_rate)"
      ],
      "metadata": {
        "id": "20N0zsyGHuuM"
      },
      "execution_count": null,
      "outputs": []
    },
    {
      "cell_type": "code",
      "source": [
        "df.show()"
      ],
      "metadata": {
        "colab": {
          "base_uri": "https://localhost:8080/"
        },
        "id": "2_8tnosmJL9G",
        "outputId": "113da877-2fa5-4564-da33-f6632fd07322"
      },
      "execution_count": null,
      "outputs": [
        {
          "output_type": "stream",
          "name": "stdout",
          "text": [
            "+----------------+--------+--------------+--------+----------+----------+----------+----------+--------------+--------------------+------------------+\n",
            "|order_details_id|order_id|      pizza_id|quantity|order_date|order_time|unit_price|pizza_size|pizza_category|          pizza_name|      price_in_INR|\n",
            "+----------------+--------+--------------+--------+----------+----------+----------+----------+--------------+--------------------+------------------+\n",
            "|               1|       1|    hawaiian_m|       1|01-01-2015|  11:38:36|     13.25|         M|       Classic|  The Hawaiian Pizza|1107.9650000000001|\n",
            "|               2|       2| classic_dlx_m|       1|01-01-2015|  11:57:40|      16.0|         M|       Classic|The Classic Delux...|           1337.92|\n",
            "|               3|       2| five_cheese_l|       1|01-01-2015|  11:57:40|      18.5|         L|        Veggie|The Five Cheese P...|           1546.97|\n",
            "|               4|       2|   ital_supr_l|       1|01-01-2015|  11:57:40|     20.75|         L|       Supreme|The Italian Supre...|          1735.115|\n",
            "|               5|       2|    mexicana_m|       1|01-01-2015|  11:57:40|      16.0|         M|        Veggie|  The Mexicana Pizza|           1337.92|\n",
            "|               6|       2|    thai_ckn_l|       1|01-01-2015|  11:57:40|     20.75|         L|       Chicken|The Thai Chicken ...|          1735.115|\n",
            "|               7|       3|   ital_supr_m|       1|01-01-2015|  12:12:28|      16.5|         M|       Supreme|The Italian Supre...|           1379.73|\n",
            "|               8|       3|  prsc_argla_l|       1|01-01-2015|  12:12:28|     20.75|         L|       Supreme|The Prosciutto an...|          1735.115|\n",
            "|               9|       4|   ital_supr_m|       1|01-01-2015|  12:16:31|      16.5|         M|       Supreme|The Italian Supre...|           1379.73|\n",
            "|              10|       5|   ital_supr_m|       1|01-01-2015|  12:21:30|      16.5|         M|       Supreme|The Italian Supre...|           1379.73|\n",
            "|              11|       6|     bbq_ckn_s|       1|01-01-2015|  12:29:36|     12.75|         S|       Chicken|The Barbecue Chic...|          1066.155|\n",
            "|              12|       6|   the_greek_s|       1|01-01-2015|  12:29:36|      12.0|         S|       Classic|     The Greek Pizza|           1003.44|\n",
            "|              13|       7|spinach_supr_s|       1|01-01-2015|  12:50:37|      12.5|         S|       Supreme|The Spinach Supre...|           1045.25|\n",
            "|              14|       8|spinach_supr_s|       1|01-01-2015|  12:51:37|      12.5|         S|       Supreme|The Spinach Supre...|           1045.25|\n",
            "|              15|       9| classic_dlx_s|       1|01-01-2015|  12:52:01|      12.0|         S|       Classic|The Classic Delux...|           1003.44|\n",
            "|              16|       9|green_garden_s|       1|01-01-2015|  12:52:01|      12.0|         S|        Veggie|The Green Garden ...|           1003.44|\n",
            "|              17|       9| ital_cpcllo_l|       1|01-01-2015|  12:52:01|      20.5|         L|       Classic|The Italian Capoc...|           1714.21|\n",
            "|              18|       9|   ital_supr_l|       1|01-01-2015|  12:52:01|     20.75|         L|       Supreme|The Italian Supre...|          1735.115|\n",
            "|              19|       9|   ital_supr_s|       1|01-01-2015|  12:52:01|      12.5|         S|       Supreme|The Italian Supre...|           1045.25|\n",
            "|              20|       9|    mexicana_s|       1|01-01-2015|  12:52:01|      12.0|         S|        Veggie|  The Mexicana Pizza|           1003.44|\n",
            "+----------------+--------+--------------+--------+----------+----------+----------+----------+--------------+--------------------+------------------+\n",
            "only showing top 20 rows\n",
            "\n"
          ]
        }
      ]
    },
    {
      "cell_type": "markdown",
      "source": [
        "add new Total_price column calculate unit_price * quantity"
      ],
      "metadata": {
        "id": "rAhXAKizfdkh"
      }
    },
    {
      "cell_type": "code",
      "source": [
        "df = df.withColumn(\"Total_price\", col(\"price_in_INR\") * col(\"quantity\"))"
      ],
      "metadata": {
        "id": "56zL_PT8JPGG"
      },
      "execution_count": null,
      "outputs": []
    },
    {
      "cell_type": "code",
      "source": [
        "df.show()"
      ],
      "metadata": {
        "colab": {
          "base_uri": "https://localhost:8080/"
        },
        "id": "TqP2BNYIJ_vu",
        "outputId": "a4a8ca4b-7f0c-49d2-c563-00e3a17f5174"
      },
      "execution_count": null,
      "outputs": [
        {
          "output_type": "stream",
          "name": "stdout",
          "text": [
            "+----------------+--------+--------------+--------+----------+----------+----------+----------+--------------+--------------------+------------------+------------------+\n",
            "|order_details_id|order_id|      pizza_id|quantity|order_date|order_time|unit_price|pizza_size|pizza_category|          pizza_name|      price_in_INR|       Total_price|\n",
            "+----------------+--------+--------------+--------+----------+----------+----------+----------+--------------+--------------------+------------------+------------------+\n",
            "|               1|       1|    hawaiian_m|       1|01-01-2015|  11:38:36|     13.25|         M|       Classic|  The Hawaiian Pizza|1107.9650000000001|1107.9650000000001|\n",
            "|               2|       2| classic_dlx_m|       1|01-01-2015|  11:57:40|      16.0|         M|       Classic|The Classic Delux...|           1337.92|           1337.92|\n",
            "|               3|       2| five_cheese_l|       1|01-01-2015|  11:57:40|      18.5|         L|        Veggie|The Five Cheese P...|           1546.97|           1546.97|\n",
            "|               4|       2|   ital_supr_l|       1|01-01-2015|  11:57:40|     20.75|         L|       Supreme|The Italian Supre...|          1735.115|          1735.115|\n",
            "|               5|       2|    mexicana_m|       1|01-01-2015|  11:57:40|      16.0|         M|        Veggie|  The Mexicana Pizza|           1337.92|           1337.92|\n",
            "|               6|       2|    thai_ckn_l|       1|01-01-2015|  11:57:40|     20.75|         L|       Chicken|The Thai Chicken ...|          1735.115|          1735.115|\n",
            "|               7|       3|   ital_supr_m|       1|01-01-2015|  12:12:28|      16.5|         M|       Supreme|The Italian Supre...|           1379.73|           1379.73|\n",
            "|               8|       3|  prsc_argla_l|       1|01-01-2015|  12:12:28|     20.75|         L|       Supreme|The Prosciutto an...|          1735.115|          1735.115|\n",
            "|               9|       4|   ital_supr_m|       1|01-01-2015|  12:16:31|      16.5|         M|       Supreme|The Italian Supre...|           1379.73|           1379.73|\n",
            "|              10|       5|   ital_supr_m|       1|01-01-2015|  12:21:30|      16.5|         M|       Supreme|The Italian Supre...|           1379.73|           1379.73|\n",
            "|              11|       6|     bbq_ckn_s|       1|01-01-2015|  12:29:36|     12.75|         S|       Chicken|The Barbecue Chic...|          1066.155|          1066.155|\n",
            "|              12|       6|   the_greek_s|       1|01-01-2015|  12:29:36|      12.0|         S|       Classic|     The Greek Pizza|           1003.44|           1003.44|\n",
            "|              13|       7|spinach_supr_s|       1|01-01-2015|  12:50:37|      12.5|         S|       Supreme|The Spinach Supre...|           1045.25|           1045.25|\n",
            "|              14|       8|spinach_supr_s|       1|01-01-2015|  12:51:37|      12.5|         S|       Supreme|The Spinach Supre...|           1045.25|           1045.25|\n",
            "|              15|       9| classic_dlx_s|       1|01-01-2015|  12:52:01|      12.0|         S|       Classic|The Classic Delux...|           1003.44|           1003.44|\n",
            "|              16|       9|green_garden_s|       1|01-01-2015|  12:52:01|      12.0|         S|        Veggie|The Green Garden ...|           1003.44|           1003.44|\n",
            "|              17|       9| ital_cpcllo_l|       1|01-01-2015|  12:52:01|      20.5|         L|       Classic|The Italian Capoc...|           1714.21|           1714.21|\n",
            "|              18|       9|   ital_supr_l|       1|01-01-2015|  12:52:01|     20.75|         L|       Supreme|The Italian Supre...|          1735.115|          1735.115|\n",
            "|              19|       9|   ital_supr_s|       1|01-01-2015|  12:52:01|      12.5|         S|       Supreme|The Italian Supre...|           1045.25|           1045.25|\n",
            "|              20|       9|    mexicana_s|       1|01-01-2015|  12:52:01|      12.0|         S|        Veggie|  The Mexicana Pizza|           1003.44|           1003.44|\n",
            "+----------------+--------+--------------+--------+----------+----------+----------+----------+--------------+--------------------+------------------+------------------+\n",
            "only showing top 20 rows\n",
            "\n"
          ]
        }
      ]
    },
    {
      "cell_type": "markdown",
      "source": [
        "convert string to DateType use to_date function"
      ],
      "metadata": {
        "id": "H4EMGrVeeZlc"
      }
    },
    {
      "cell_type": "code",
      "source": [
        "from pyspark.sql.functions import to_date\n",
        "df = df.withColumn(\"order_date\", to_date(\"order_date\", \"dd-MM-yyyy\"))\n"
      ],
      "metadata": {
        "id": "pp8hoZJvMLc8"
      },
      "execution_count": null,
      "outputs": []
    },
    {
      "cell_type": "code",
      "source": [
        "df.dtypes"
      ],
      "metadata": {
        "colab": {
          "base_uri": "https://localhost:8080/"
        },
        "id": "5BwoO-hyLadr",
        "outputId": "e565e20c-8ca0-46f6-ac0f-d25bc55a913c"
      },
      "execution_count": null,
      "outputs": [
        {
          "output_type": "execute_result",
          "data": {
            "text/plain": [
              "[('order_details_id', 'int'),\n",
              " ('order_id', 'int'),\n",
              " ('pizza_id', 'string'),\n",
              " ('quantity', 'int'),\n",
              " ('order_date', 'date'),\n",
              " ('order_time', 'string'),\n",
              " ('unit_price', 'double'),\n",
              " ('pizza_size', 'string'),\n",
              " ('pizza_category', 'string'),\n",
              " ('pizza_name', 'string'),\n",
              " ('price_in_INR', 'double'),\n",
              " ('Total_price', 'double')]"
            ]
          },
          "metadata": {},
          "execution_count": 21
        }
      ]
    },
    {
      "cell_type": "markdown",
      "source": [
        "add a new month_name column based on order_date"
      ],
      "metadata": {
        "id": "4SiYYCDie7sR"
      }
    },
    {
      "cell_type": "code",
      "source": [
        "df = df.withColumn(\"month_name\", date_format(\"order_date\", \"MMMM\"))\n"
      ],
      "metadata": {
        "id": "UXVhHKgeNclq"
      },
      "execution_count": null,
      "outputs": []
    },
    {
      "cell_type": "code",
      "source": [
        "df.show()"
      ],
      "metadata": {
        "colab": {
          "base_uri": "https://localhost:8080/"
        },
        "id": "ZVZkMl9ONnUr",
        "outputId": "88198af7-f5c6-4b11-e209-b02a02dc5204"
      },
      "execution_count": null,
      "outputs": [
        {
          "output_type": "stream",
          "name": "stdout",
          "text": [
            "+----------------+--------+--------------+--------+----------+----------+----------+----------+--------------+--------------------+------------------+------------------+----------+\n",
            "|order_details_id|order_id|      pizza_id|quantity|order_date|order_time|unit_price|pizza_size|pizza_category|          pizza_name|      price_in_INR|       Total_price|month_name|\n",
            "+----------------+--------+--------------+--------+----------+----------+----------+----------+--------------+--------------------+------------------+------------------+----------+\n",
            "|               1|       1|    hawaiian_m|       1|2015-01-01|  11:38:36|     13.25|         M|       Classic|  The Hawaiian Pizza|1107.9650000000001|1107.9650000000001|   January|\n",
            "|               2|       2| classic_dlx_m|       1|2015-01-01|  11:57:40|      16.0|         M|       Classic|The Classic Delux...|           1337.92|           1337.92|   January|\n",
            "|               3|       2| five_cheese_l|       1|2015-01-01|  11:57:40|      18.5|         L|        Veggie|The Five Cheese P...|           1546.97|           1546.97|   January|\n",
            "|               4|       2|   ital_supr_l|       1|2015-01-01|  11:57:40|     20.75|         L|       Supreme|The Italian Supre...|          1735.115|          1735.115|   January|\n",
            "|               5|       2|    mexicana_m|       1|2015-01-01|  11:57:40|      16.0|         M|        Veggie|  The Mexicana Pizza|           1337.92|           1337.92|   January|\n",
            "|               6|       2|    thai_ckn_l|       1|2015-01-01|  11:57:40|     20.75|         L|       Chicken|The Thai Chicken ...|          1735.115|          1735.115|   January|\n",
            "|               7|       3|   ital_supr_m|       1|2015-01-01|  12:12:28|      16.5|         M|       Supreme|The Italian Supre...|           1379.73|           1379.73|   January|\n",
            "|               8|       3|  prsc_argla_l|       1|2015-01-01|  12:12:28|     20.75|         L|       Supreme|The Prosciutto an...|          1735.115|          1735.115|   January|\n",
            "|               9|       4|   ital_supr_m|       1|2015-01-01|  12:16:31|      16.5|         M|       Supreme|The Italian Supre...|           1379.73|           1379.73|   January|\n",
            "|              10|       5|   ital_supr_m|       1|2015-01-01|  12:21:30|      16.5|         M|       Supreme|The Italian Supre...|           1379.73|           1379.73|   January|\n",
            "|              11|       6|     bbq_ckn_s|       1|2015-01-01|  12:29:36|     12.75|         S|       Chicken|The Barbecue Chic...|          1066.155|          1066.155|   January|\n",
            "|              12|       6|   the_greek_s|       1|2015-01-01|  12:29:36|      12.0|         S|       Classic|     The Greek Pizza|           1003.44|           1003.44|   January|\n",
            "|              13|       7|spinach_supr_s|       1|2015-01-01|  12:50:37|      12.5|         S|       Supreme|The Spinach Supre...|           1045.25|           1045.25|   January|\n",
            "|              14|       8|spinach_supr_s|       1|2015-01-01|  12:51:37|      12.5|         S|       Supreme|The Spinach Supre...|           1045.25|           1045.25|   January|\n",
            "|              15|       9| classic_dlx_s|       1|2015-01-01|  12:52:01|      12.0|         S|       Classic|The Classic Delux...|           1003.44|           1003.44|   January|\n",
            "|              16|       9|green_garden_s|       1|2015-01-01|  12:52:01|      12.0|         S|        Veggie|The Green Garden ...|           1003.44|           1003.44|   January|\n",
            "|              17|       9| ital_cpcllo_l|       1|2015-01-01|  12:52:01|      20.5|         L|       Classic|The Italian Capoc...|           1714.21|           1714.21|   January|\n",
            "|              18|       9|   ital_supr_l|       1|2015-01-01|  12:52:01|     20.75|         L|       Supreme|The Italian Supre...|          1735.115|          1735.115|   January|\n",
            "|              19|       9|   ital_supr_s|       1|2015-01-01|  12:52:01|      12.5|         S|       Supreme|The Italian Supre...|           1045.25|           1045.25|   January|\n",
            "|              20|       9|    mexicana_s|       1|2015-01-01|  12:52:01|      12.0|         S|        Veggie|  The Mexicana Pizza|           1003.44|           1003.44|   January|\n",
            "+----------------+--------+--------------+--------+----------+----------+----------+----------+--------------+--------------------+------------------+------------------+----------+\n",
            "only showing top 20 rows\n",
            "\n"
          ]
        }
      ]
    },
    {
      "cell_type": "code",
      "source": [
        "df.tail(1)"
      ],
      "metadata": {
        "colab": {
          "base_uri": "https://localhost:8080/"
        },
        "id": "clH1qGKjNv3M",
        "outputId": "d8c165a8-9d7a-41e6-bc99-043b37e40faf"
      },
      "execution_count": null,
      "outputs": [
        {
          "output_type": "execute_result",
          "data": {
            "text/plain": [
              "[Row(order_details_id=48620, order_id=21350, pizza_id='bbq_ckn_s', quantity=1, order_date=datetime.date(2015, 12, 31), order_time='23:02:05', unit_price=12.75, pizza_size='S', pizza_category='Chicken', pizza_name='The Barbecue Chicken Pizza', price_in_INR=1066.155, Total_price=1066.155, month_name='December')]"
            ]
          },
          "metadata": {},
          "execution_count": 24
        }
      ]
    },
    {
      "cell_type": "markdown",
      "source": [
        "save clean_df file using visualization"
      ],
      "metadata": {
        "id": "ptG0QDaQGus8"
      }
    },
    {
      "cell_type": "code",
      "source": [
        "clean_df = df.toPandas()"
      ],
      "metadata": {
        "id": "CimQho_uiuiF"
      },
      "execution_count": null,
      "outputs": []
    },
    {
      "cell_type": "code",
      "source": [
        "clean_df.to_csv(\"clean_data.csv\", index=False)"
      ],
      "metadata": {
        "id": "Eh79SRnshSYI"
      },
      "execution_count": null,
      "outputs": []
    }
  ]
}